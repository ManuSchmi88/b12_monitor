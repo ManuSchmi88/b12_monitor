{
 "cells": [
  {
   "cell_type": "code",
   "execution_count": 8,
   "id": "58d11632-2f43-4947-9cc6-06b80e153966",
   "metadata": {},
   "outputs": [],
   "source": [
    "import requests\n",
    "import time\n",
    "import csv\n",
    "import os.path\n",
    "from os import mkdir as os_mkdir\n",
    "from os import getcwd as os_getcwd\n",
    "from matplotlib import pyplot as plt\n",
    "import datetime\n",
    "import numpy as np\n",
    "from selenium import webdriver\n",
    "from bs4 import BeautifulSoup"
   ]
  },
  {
   "cell_type": "code",
   "execution_count": 9,
   "id": "c70255b8-dfd7-4cf0-bcf7-6dadadd47e1c",
   "metadata": {},
   "outputs": [],
   "source": [
    "def create_folder_structure():\n",
    "    #checks if the data/$WEEKDAY folders exists\n",
    "    #if not, creates them\n",
    "    if os.path.isdir('data') == True:\n",
    "        print('data folder exists already. skipping...')\n",
    "    else:\n",
    "        os_mkdir('data')\n",
    "    weekdays = ['mon', 'tue', 'wed', 'thu', 'fri', 'sat', 'sun']\n",
    "    for day in weekdays:\n",
    "        path = os.path.join('data',day)\n",
    "        if os.path.isdir(path) == True: \n",
    "            print(path + ' exists already. skipping...')\n",
    "        elif os.path.isdir(path) == False: \n",
    "            os_mkdir(path)"
   ]
  },
  {
   "cell_type": "code",
   "execution_count": 10,
   "id": "f39e8ab5-1615-4704-8141-eb9407ede42d",
   "metadata": {},
   "outputs": [],
   "source": [
    "def get_current_peoplecount():\n",
    "    #uses the b12 homepage to check the current amount of people training\n",
    "    #returns people-count as integer\n",
    "    #returns an array\n",
    "    #example output for 8:15am with 13 people : [0815,13]\n",
    "    \n",
    "    page_string = \"http://b12-tuebingen.de/\"\n",
    "    \n",
    "    #define webdriver options\n",
    "    options = webdriver.ChromeOptions()\n",
    "    options.add_argument('--ignore-certificate-errors')\n",
    "    options.add_argument('--incognito')\n",
    "    options.add_argument('--headless')\n",
    "    current_path = os_getcwd()\n",
    "    driver_path = str(current_path + '/chromedriver_mac')\n",
    "    driver = webdriver.Chrome(driver_path, options=options)\n",
    "    \n",
    "    #render the webpage headless and parse the source to beautiful soup\n",
    "    driver.get(page_string)\n",
    "    soup = BeautifulSoup(driver.page_source, 'html.parser')\n",
    "    \n",
    "    #gets the utilization string from the homepage and extracts the number\n",
    "    people_count_text = soup.select_one(\"div[class=status_text]\").text\n",
    "    people_count_integer = people_count_text.strip().split(' ')[0]\n",
    "    current_time = datetime.datetime.now().strftime(\"%H%M\")\n",
    "    \n",
    "    result = [current_time, people_count_integer]\n",
    "    \n",
    "    return result\n",
    "    \n",
    "    \n",
    "    "
   ]
  },
  {
   "cell_type": "code",
   "execution_count": null,
   "id": "f82200de-10cb-49ce-9275-6e23db12b09d",
   "metadata": {},
   "outputs": [],
   "source": []
  },
  {
   "cell_type": "code",
   "execution_count": 11,
   "id": "763c58dd-b2cf-4ea9-a5b2-cbbbb31758ce",
   "metadata": {},
   "outputs": [],
   "source": [
    "def write_to_file(results):\n",
    "    #write the data in a file\n",
    "    #filepath is ./data/$weekday/$date.out\n",
    "    \n",
    "    now = datetime.datetime.now()\n",
    "    weekday = now.strftime(\"%a\").lower()\n",
    "    date = now.strftime(\"%y_%m_%d\")\n",
    "    \n",
    "    path_to_file = os.path.join('data',weekday,date)\n",
    "    \n",
    "    #runs as long as the user or something else breaks it\n",
    "    print(\"Writing to : \" + str(path_to_file) + \" at: \" + str(results[0]))\n",
    "    with open(path_to_file, 'a') as file: \n",
    "        pars_string = str(results[0]+','+results[1]+'\\n')\n",
    "        file.write(pars_string)"
   ]
  },
  {
   "cell_type": "code",
   "execution_count": 12,
   "id": "e6d22821-ae21-42fb-9314-4b49609ac0d0",
   "metadata": {},
   "outputs": [],
   "source": [
    "def go_to_sleep(sleep_timer):\n",
    "    #waits the specified amount of time\n",
    "    time.sleep(sleep_timer)"
   ]
  },
  {
   "cell_type": "code",
   "execution_count": 13,
   "id": "00b8ea39-43ec-4f4b-8680-9ffba9866a86",
   "metadata": {},
   "outputs": [],
   "source": [
    "def main():\n",
    "    create_folder_structure()\n",
    "    while True:\n",
    "        try:\n",
    "            b12_results = get_current_peoplecount()\n",
    "            write_to_file(b12_results)\n",
    "        except:\n",
    "            print(\"something with the webpage was of. skipping...\")\n",
    "        go_to_sleep(10)\n",
    "    "
   ]
  },
  {
   "cell_type": "code",
   "execution_count": 7,
   "id": "5b5ab71f-0f5f-4fd1-a382-d51e8ab5a5f3",
   "metadata": {},
   "outputs": [
    {
     "name": "stdout",
     "output_type": "stream",
     "text": [
      "data folder exists already. skipping...\n",
      "data/mon exists already. skipping...\n",
      "data/tue exists already. skipping...\n",
      "data/wed exists already. skipping...\n",
      "data/thu exists already. skipping...\n",
      "data/fri exists already. skipping...\n",
      "data/sat exists already. skipping...\n",
      "data/sun exists already. skipping...\n",
      "Writing to : data/sun/21_12_05 at: 1656\n"
     ]
    },
    {
     "ename": "KeyboardInterrupt",
     "evalue": "",
     "output_type": "error",
     "traceback": [
      "\u001b[0;31m---------------------------------------------------------------------------\u001b[0m",
      "\u001b[0;31mKeyboardInterrupt\u001b[0m                         Traceback (most recent call last)",
      "\u001b[0;32m/var/folders/k0/4bwtzr156dgg30p85m1p8pcw0000gn/T/ipykernel_15902/451043146.py\u001b[0m in \u001b[0;36m<module>\u001b[0;34m\u001b[0m\n\u001b[0;32m----> 1\u001b[0;31m \u001b[0mmain\u001b[0m\u001b[0;34m(\u001b[0m\u001b[0;34m)\u001b[0m\u001b[0;34m\u001b[0m\u001b[0;34m\u001b[0m\u001b[0m\n\u001b[0m",
      "\u001b[0;32m/var/folders/k0/4bwtzr156dgg30p85m1p8pcw0000gn/T/ipykernel_15902/2847698239.py\u001b[0m in \u001b[0;36mmain\u001b[0;34m()\u001b[0m\n\u001b[1;32m      7\u001b[0m         \u001b[0;32mexcept\u001b[0m\u001b[0;34m:\u001b[0m\u001b[0;34m\u001b[0m\u001b[0;34m\u001b[0m\u001b[0m\n\u001b[1;32m      8\u001b[0m             \u001b[0mprint\u001b[0m\u001b[0;34m(\u001b[0m\u001b[0;34m\"something with the webpage was of. skipping...\"\u001b[0m\u001b[0;34m)\u001b[0m\u001b[0;34m\u001b[0m\u001b[0;34m\u001b[0m\u001b[0m\n\u001b[0;32m----> 9\u001b[0;31m         \u001b[0mgo_to_sleep\u001b[0m\u001b[0;34m(\u001b[0m\u001b[0;36m10\u001b[0m\u001b[0;34m)\u001b[0m\u001b[0;34m\u001b[0m\u001b[0;34m\u001b[0m\u001b[0m\n\u001b[0m\u001b[1;32m     10\u001b[0m \u001b[0;34m\u001b[0m\u001b[0m\n",
      "\u001b[0;32m/var/folders/k0/4bwtzr156dgg30p85m1p8pcw0000gn/T/ipykernel_15902/4066276309.py\u001b[0m in \u001b[0;36mgo_to_sleep\u001b[0;34m(sleep_timer)\u001b[0m\n\u001b[1;32m      1\u001b[0m \u001b[0;32mdef\u001b[0m \u001b[0mgo_to_sleep\u001b[0m\u001b[0;34m(\u001b[0m\u001b[0msleep_timer\u001b[0m\u001b[0;34m)\u001b[0m\u001b[0;34m:\u001b[0m\u001b[0;34m\u001b[0m\u001b[0;34m\u001b[0m\u001b[0m\n\u001b[1;32m      2\u001b[0m     \u001b[0;31m#waits the specified amount of time\u001b[0m\u001b[0;34m\u001b[0m\u001b[0;34m\u001b[0m\u001b[0;34m\u001b[0m\u001b[0m\n\u001b[0;32m----> 3\u001b[0;31m     \u001b[0mtime\u001b[0m\u001b[0;34m.\u001b[0m\u001b[0msleep\u001b[0m\u001b[0;34m(\u001b[0m\u001b[0msleep_timer\u001b[0m\u001b[0;34m)\u001b[0m\u001b[0;34m\u001b[0m\u001b[0;34m\u001b[0m\u001b[0m\n\u001b[0m",
      "\u001b[0;31mKeyboardInterrupt\u001b[0m: "
     ]
    }
   ],
   "source": [
    "main()"
   ]
  },
  {
   "cell_type": "code",
   "execution_count": 15,
   "id": "cbd6beab-93dc-4d93-81b9-98872d115946",
   "metadata": {},
   "outputs": [],
   "source": [
    "def create_output_figure(daily_data, opening, closing, output_fig):\n",
    "    #creates a figure based on daily data and the opening and closing hours\n",
    "    #time-format needs to be integer as follows: 9:00 = 900, 23:00 = 2300\n",
    "    utilization = []\n",
    "    with open(daily_data, 'r') as util_file:\n",
    "        reader = csv.reader(util_file)\n",
    "        for row in reader:\n",
    "            utilization.append(row)\n",
    "        \n",
    "    \n",
    "    #filter utilization array so that it doesnt show values where b12 is closed\n",
    "    utilization = list(filter(lambda x: int(x[0])>opening and int(x[0])<closing,utilization))\n",
    "\n",
    "    time = [x[0] for x in utilization]\n",
    "    people = [105 - int(x[1]) for x in utilization]\n",
    "    \n",
    "    #create a string from the time-values for nicer plotting\n",
    "    time_string = []\n",
    "    for timestamp in time: \n",
    "        hours   = timestamp[:2]\n",
    "        minutes = timestamp[-2:]\n",
    "        time_string.append(str(hours + ':' + minutes))\n",
    "    \n",
    "    \n",
    "    #Plotting\n",
    "    fig = plt.figure(figsize=[20,10])\n",
    "    fig.patch.set_facecolor('white')\n",
    "    ax1 = fig.add_subplot(111)\n",
    "    ax1.set_title(\"B12 - Personenanzahl\")\n",
    "    ax1.title.set_fontsize(20)\n",
    "    ax1.set_ylabel(\"Personen\", fontsize = 20)\n",
    "    ax1.set_xlabel(\"Uhrzeit\", fontsize = 20)\n",
    "    ax1.set_yticks(np.arange(0,110,10))\n",
    "    ax1.set_ylim([0,105])\n",
    "    ax1.plot(time_string, people, 'r', linewidth = 2)\n",
    "    plt.gcf()\n",
    "    plt.savefig(output_fig)\n",
    "    plt.close()"
   ]
  },
  {
   "cell_type": "code",
   "execution_count": 16,
   "id": "d9abf95f-0813-4106-86e3-6c287396bf91",
   "metadata": {},
   "outputs": [
    {
     "ename": "FileNotFoundError",
     "evalue": "[Errno 2] No such file or directory: '21_12_05.test'",
     "output_type": "error",
     "traceback": [
      "\u001b[0;31m---------------------------------------------------------------------------\u001b[0m",
      "\u001b[0;31mFileNotFoundError\u001b[0m                         Traceback (most recent call last)",
      "\u001b[0;32m/var/folders/k0/4bwtzr156dgg30p85m1p8pcw0000gn/T/ipykernel_15902/4183824609.py\u001b[0m in \u001b[0;36m<module>\u001b[0;34m\u001b[0m\n\u001b[0;32m----> 1\u001b[0;31m \u001b[0mcreate_output_figure\u001b[0m\u001b[0;34m(\u001b[0m\u001b[0;34m'21_12_05.test'\u001b[0m\u001b[0;34m,\u001b[0m\u001b[0;36m930\u001b[0m\u001b[0;34m,\u001b[0m \u001b[0;36m2200\u001b[0m\u001b[0;34m,\u001b[0m\u001b[0;34m'test.png'\u001b[0m\u001b[0;34m)\u001b[0m\u001b[0;34m\u001b[0m\u001b[0;34m\u001b[0m\u001b[0m\n\u001b[0m",
      "\u001b[0;32m/var/folders/k0/4bwtzr156dgg30p85m1p8pcw0000gn/T/ipykernel_15902/2264637812.py\u001b[0m in \u001b[0;36mcreate_output_figure\u001b[0;34m(daily_data, opening, closing, output_fig)\u001b[0m\n\u001b[1;32m      3\u001b[0m     \u001b[0;31m#time-format needs to be integer as follows: 9:00 = 900, 23:00 = 2300\u001b[0m\u001b[0;34m\u001b[0m\u001b[0;34m\u001b[0m\u001b[0;34m\u001b[0m\u001b[0m\n\u001b[1;32m      4\u001b[0m     \u001b[0mutilization\u001b[0m \u001b[0;34m=\u001b[0m \u001b[0;34m[\u001b[0m\u001b[0;34m]\u001b[0m\u001b[0;34m\u001b[0m\u001b[0;34m\u001b[0m\u001b[0m\n\u001b[0;32m----> 5\u001b[0;31m     \u001b[0;32mwith\u001b[0m \u001b[0mopen\u001b[0m\u001b[0;34m(\u001b[0m\u001b[0mdaily_data\u001b[0m\u001b[0;34m,\u001b[0m \u001b[0;34m'r'\u001b[0m\u001b[0;34m)\u001b[0m \u001b[0;32mas\u001b[0m \u001b[0mutil_file\u001b[0m\u001b[0;34m:\u001b[0m\u001b[0;34m\u001b[0m\u001b[0;34m\u001b[0m\u001b[0m\n\u001b[0m\u001b[1;32m      6\u001b[0m         \u001b[0mreader\u001b[0m \u001b[0;34m=\u001b[0m \u001b[0mcsv\u001b[0m\u001b[0;34m.\u001b[0m\u001b[0mreader\u001b[0m\u001b[0;34m(\u001b[0m\u001b[0mutil_file\u001b[0m\u001b[0;34m)\u001b[0m\u001b[0;34m\u001b[0m\u001b[0;34m\u001b[0m\u001b[0m\n\u001b[1;32m      7\u001b[0m         \u001b[0;32mfor\u001b[0m \u001b[0mrow\u001b[0m \u001b[0;32min\u001b[0m \u001b[0mreader\u001b[0m\u001b[0;34m:\u001b[0m\u001b[0;34m\u001b[0m\u001b[0;34m\u001b[0m\u001b[0m\n",
      "\u001b[0;31mFileNotFoundError\u001b[0m: [Errno 2] No such file or directory: '21_12_05.test'"
     ]
    }
   ],
   "source": [
    "create_output_figure('21_12_05.test',930, 2200,'test.png')"
   ]
  },
  {
   "cell_type": "markdown",
   "id": "79953c4d-1012-4c26-b6d8-4fa39c78ee5a",
   "metadata": {},
   "source": [
    "#just some scrambling about plotting"
   ]
  },
  {
   "cell_type": "code",
   "execution_count": 29,
   "id": "091294ab-1186-40d1-ba68-3336aa0b6cca",
   "metadata": {},
   "outputs": [],
   "source": [
    "daily_util = '21_12_05.test'\n",
    "utilization = []\n",
    "with open(daily_util, 'r') as util_file:\n",
    "    reader = csv.reader(util_file)\n",
    "    for row in reader:\n",
    "        utilization.append(row)\n",
    "\n",
    "#filter utilization array so that it doesnt show values where b12 is closed\n",
    "utilization = list(filter(lambda x: int(x[0])>930 and int(x[0])<2300,utilization))\n",
    "\n",
    "time = [x[0] for x in utilization]\n",
    "people = [105 - int(x[1]) for x in utilization]"
   ]
  },
  {
   "cell_type": "code",
   "execution_count": 30,
   "id": "ed562565-c4be-4dd6-8c0c-0a8c1bd7896d",
   "metadata": {},
   "outputs": [],
   "source": [
    "time_string = []\n",
    "for timestamp in time: \n",
    "    hours   = timestamp[:2]\n",
    "    minutes = timestamp[-2:]\n",
    "    time_string.append(str(hours + ':' + minutes))"
   ]
  },
  {
   "cell_type": "code",
   "execution_count": 31,
   "id": "bf3c41ae-5c57-41af-adad-9d1121739f15",
   "metadata": {},
   "outputs": [
    {
     "data": {
      "text/plain": [
       "[<matplotlib.lines.Line2D at 0x7fae276fa130>]"
      ]
     },
     "execution_count": 31,
     "metadata": {},
     "output_type": "execute_result"
    },
    {
     "data": {
      "image/png": "[encoded data removed]",
      "text/plain": [
       "<Figure size 1440x720 with 1 Axes>"
      ]
     },
     "metadata": {
      "needs_background": "light"
     },
     "output_type": "display_data"
    }
   ],
   "source": [
    "fig = plt.figure(figsize=[20,10])\n",
    "ax1 = fig.add_subplot(111)\n",
    "ax1.set_title(\"B12 - Personenanzahl\")\n",
    "ax1.title.set_fontsize(20)\n",
    "ax1.set_ylabel(\"Personen\", fontsize = 20)\n",
    "ax1.set_xlabel(\"Uhrzeit\", fontsize = 20)\n",
    "ax1.set_yticks(np.arange(0,110,10))\n",
    "ax1.set_ylim([0,105])\n",
    "ax1.plot(time_string, people, 'r', linewidth = 2)"
   ]
  }
 ],
 "metadata": {
  "kernelspec": {
   "display_name": "Python 3 (ipykernel)",
   "language": "python",
   "name": "python3"
  },
  "language_info": {
   "codemirror_mode": {
    "name": "ipython",
    "version": 3
   },
   "file_extension": ".py",
   "mimetype": "text/x-python",
   "name": "python",
   "nbconvert_exporter": "python",
   "pygments_lexer": "ipython3",
   "version": "3.8.12"
  }
 },
 "nbformat": 4,
 "nbformat_minor": 5
}
