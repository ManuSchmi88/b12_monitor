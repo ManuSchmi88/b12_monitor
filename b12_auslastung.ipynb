{
 "cells": [
  {
   "cell_type": "code",
   "execution_count": 9,
   "id": "58d11632-2f43-4947-9cc6-06b80e153966",
   "metadata": {},
   "outputs": [],
   "source": [
    "import requests\n",
    "import time\n",
    "import os.path\n",
    "from os import mkdir as os_mkdir\n",
    "from os import getcwd as os_getcwd\n",
    "from matplotlib import pyplot as plt\n",
    "import datetime\n",
    "import numpy as np\n",
    "from selenium import webdriver\n",
    "from bs4 import BeautifulSoup"
   ]
  },
  {
   "cell_type": "code",
   "execution_count": 10,
   "id": "c70255b8-dfd7-4cf0-bcf7-6dadadd47e1c",
   "metadata": {},
   "outputs": [],
   "source": [
    "def create_folder_structure():\n",
    "    #checks if the data/$WEEKDAY folders exists\n",
    "    #if not, creates them\n",
    "    if os.path.isdir('data') == True:\n",
    "        print('data folder exists already. skipping...')\n",
    "    else:\n",
    "        os_mkdir('data')\n",
    "    weekdays = ['mon', 'tue', 'wed', 'thu', 'fri', 'sat', 'sun']\n",
    "    for day in weekdays:\n",
    "        path = os.path.join('data',day)\n",
    "        if os.path.isdir(path) == True: \n",
    "            print(path + ' exists already. skipping...')\n",
    "        elif os.path.isdir(path) == False: \n",
    "            os_mkdir(path)"
   ]
  },
  {
   "cell_type": "code",
   "execution_count": 11,
   "id": "f39e8ab5-1615-4704-8141-eb9407ede42d",
   "metadata": {},
   "outputs": [],
   "source": [
    "def get_current_peoplecount():\n",
    "    #uses the b12 homepage to check the current amount of people training\n",
    "    #returns people-count as integer\n",
    "    #returns an array\n",
    "    #example output for 8:15am with 13 people : [0815,13]\n",
    "    \n",
    "    page_string = \"http://b13-tuebingen.de/\"\n",
    "    \n",
    "    #define webdriver options\n",
    "    options = webdriver.ChromeOptions()\n",
    "    options.add_argument('--ignore-certificate-errors')\n",
    "    options.add_argument('--incognito')\n",
    "    options.add_argument('--headless')\n",
    "    current_path = os_getcwd()\n",
    "    driver_path = str(current_path + '/chromedriver')\n",
    "    driver = webdriver.Chrome(driver_path, options=options)\n",
    "    \n",
    "    #render the webpage headless and parse the source to beautiful soup\n",
    "    driver.get(page_string)\n",
    "    soup = BeautifulSoup(driver.page_source, 'html.parser')\n",
    "    \n",
    "    #gets the utilization string from the homepage and extracts the number\n",
    "    people_count_text = soup.select_one(\"div[class=status_text]\").text\n",
    "    people_count_integer = people_count_text.strip().split(' ')[0]\n",
    "    current_time = datetime.datetime.now().strftime(\"%H%M\")\n",
    "    \n",
    "    result = [current_time, people_count_integer]\n",
    "    \n",
    "    return result\n",
    "    \n",
    "    \n",
    "    "
   ]
  },
  {
   "cell_type": "code",
   "execution_count": 12,
   "id": "763c58dd-b2cf-4ea9-a5b2-cbbbb31758ce",
   "metadata": {},
   "outputs": [],
   "source": [
    "def write_to_file(results):\n",
    "    #write the data in a file\n",
    "    #filepath is ./data/$weekday/$date.out\n",
    "    \n",
    "    now = datetime.datetime.now()\n",
    "    weekday = now.strftime(\"%a\").lower()\n",
    "    date = now.strftime(\"%y_%m_%d\")\n",
    "    \n",
    "    path_to_file = os.path.join('data',weekday,date)\n",
    "    \n",
    "    #runs as long as the user or something else breaks it\n",
    "    print(\"Writing to : \" + str(path_to_file) + \" at: \" + str(results[0]))\n",
    "    with open(path_to_file, 'a') as file: \n",
    "        pars_string = str(results[0]+','+results[1]+'\\n')\n",
    "        file.write(pars_string)"
   ]
  },
  {
   "cell_type": "code",
   "execution_count": 13,
   "id": "e6d22821-ae21-42fb-9314-4b49609ac0d0",
   "metadata": {},
   "outputs": [],
   "source": [
    "def go_to_sleep(sleep_timer):\n",
    "    #waits the specified amount of time\n",
    "    time.sleep(sleep_timer)"
   ]
  },
  {
   "cell_type": "code",
   "execution_count": 18,
   "id": "00b8ea39-43ec-4f4b-8680-9ffba9866a86",
   "metadata": {},
   "outputs": [],
   "source": [
    "def main():\n",
    "    create_folder_structure()\n",
    "    while True:\n",
    "        try:\n",
    "            b12_results = get_current_peoplecount()\n",
    "            write_to_file(b12_results)\n",
    "        except:\n",
    "            print(\"something with the webpage was of. skipping...\")\n",
    "        go_to_sleep(10)\n",
    "    "
   ]
  },
  {
   "cell_type": "code",
   "execution_count": 19,
   "id": "5b5ab71f-0f5f-4fd1-a382-d51e8ab5a5f3",
   "metadata": {},
   "outputs": [
    {
     "name": "stdout",
     "output_type": "stream",
     "text": [
      "data folder exists already. skipping...\n",
      "data/mon exists already. skipping...\n",
      "data/tue exists already. skipping...\n",
      "data/wed exists already. skipping...\n",
      "data/thu exists already. skipping...\n",
      "data/fri exists already. skipping...\n",
      "data/sat exists already. skipping...\n",
      "data/sun exists already. skipping...\n",
      "something with the webpage was of. skipping...\n",
      "something with the webpage was of. skipping...\n"
     ]
    },
    {
     "ename": "KeyboardInterrupt",
     "evalue": "",
     "output_type": "error",
     "traceback": [
      "\u001b[0;31m---------------------------------------------------------------------------\u001b[0m",
      "\u001b[0;31mKeyboardInterrupt\u001b[0m                         Traceback (most recent call last)",
      "\u001b[0;32m/var/folders/k0/4bwtzr156dgg30p85m1p8pcw0000gn/T/ipykernel_13297/451043146.py\u001b[0m in \u001b[0;36m<module>\u001b[0;34m\u001b[0m\n\u001b[0;32m----> 1\u001b[0;31m \u001b[0mmain\u001b[0m\u001b[0;34m(\u001b[0m\u001b[0;34m)\u001b[0m\u001b[0;34m\u001b[0m\u001b[0;34m\u001b[0m\u001b[0m\n\u001b[0m",
      "\u001b[0;32m/var/folders/k0/4bwtzr156dgg30p85m1p8pcw0000gn/T/ipykernel_13297/2847698239.py\u001b[0m in \u001b[0;36mmain\u001b[0;34m()\u001b[0m\n\u001b[1;32m      7\u001b[0m         \u001b[0;32mexcept\u001b[0m\u001b[0;34m:\u001b[0m\u001b[0;34m\u001b[0m\u001b[0;34m\u001b[0m\u001b[0m\n\u001b[1;32m      8\u001b[0m             \u001b[0mprint\u001b[0m\u001b[0;34m(\u001b[0m\u001b[0;34m\"something with the webpage was of. skipping...\"\u001b[0m\u001b[0;34m)\u001b[0m\u001b[0;34m\u001b[0m\u001b[0;34m\u001b[0m\u001b[0m\n\u001b[0;32m----> 9\u001b[0;31m         \u001b[0mgo_to_sleep\u001b[0m\u001b[0;34m(\u001b[0m\u001b[0;36m10\u001b[0m\u001b[0;34m)\u001b[0m\u001b[0;34m\u001b[0m\u001b[0;34m\u001b[0m\u001b[0m\n\u001b[0m\u001b[1;32m     10\u001b[0m \u001b[0;34m\u001b[0m\u001b[0m\n",
      "\u001b[0;32m/var/folders/k0/4bwtzr156dgg30p85m1p8pcw0000gn/T/ipykernel_13297/4066276309.py\u001b[0m in \u001b[0;36mgo_to_sleep\u001b[0;34m(sleep_timer)\u001b[0m\n\u001b[1;32m      1\u001b[0m \u001b[0;32mdef\u001b[0m \u001b[0mgo_to_sleep\u001b[0m\u001b[0;34m(\u001b[0m\u001b[0msleep_timer\u001b[0m\u001b[0;34m)\u001b[0m\u001b[0;34m:\u001b[0m\u001b[0;34m\u001b[0m\u001b[0;34m\u001b[0m\u001b[0m\n\u001b[1;32m      2\u001b[0m     \u001b[0;31m#waits the specified amount of time\u001b[0m\u001b[0;34m\u001b[0m\u001b[0;34m\u001b[0m\u001b[0;34m\u001b[0m\u001b[0m\n\u001b[0;32m----> 3\u001b[0;31m     \u001b[0mtime\u001b[0m\u001b[0;34m.\u001b[0m\u001b[0msleep\u001b[0m\u001b[0;34m(\u001b[0m\u001b[0msleep_timer\u001b[0m\u001b[0;34m)\u001b[0m\u001b[0;34m\u001b[0m\u001b[0;34m\u001b[0m\u001b[0m\n\u001b[0m",
      "\u001b[0;31mKeyboardInterrupt\u001b[0m: "
     ]
    }
   ],
   "source": [
    "main()"
   ]
  },
  {
   "cell_type": "markdown",
   "id": "79953c4d-1012-4c26-b6d8-4fa39c78ee5a",
   "metadata": {},
   "source": [
    "#just some scrambling about plotting"
   ]
  },
  {
   "cell_type": "code",
   "execution_count": 47,
   "id": "1031a3b0-2ffb-428a-93f7-464030368dea",
   "metadata": {},
   "outputs": [
    {
     "data": {
      "text/plain": [
       "'23'"
      ]
     },
     "execution_count": 47,
     "metadata": {},
     "output_type": "execute_result"
    }
   ],
   "source": [
    "#creating artificial data for some random day (monday)\n",
    "#the data runs from 0900 to 2300\n",
    "hourly_maximal = 56\n",
    "b12_hours = np.arange(900, 2315, 30)\n",
    "b12_utilization = np.random.randint(0,80, len(b12_hours))\n",
    "datetime.time(23,15).strftime('%H')"
   ]
  },
  {
   "cell_type": "code",
   "execution_count": 48,
   "id": "ed99add0-0d20-47ed-a110-4f7ab22c7648",
   "metadata": {},
   "outputs": [
    {
     "name": "stdout",
     "output_type": "stream",
     "text": [
      "9:00\n",
      "9:30\n",
      "9:60\n",
      "9:90\n",
      "10:20\n",
      "10:50\n",
      "10:80\n",
      "11:10\n",
      "11:40\n",
      "11:70\n",
      "12:00\n",
      "12:30\n",
      "12:60\n",
      "12:90\n",
      "13:20\n",
      "13:50\n",
      "13:80\n",
      "14:10\n",
      "14:40\n",
      "14:70\n",
      "15:00\n",
      "15:30\n",
      "15:60\n",
      "15:90\n",
      "16:20\n",
      "16:50\n",
      "16:80\n",
      "17:10\n",
      "17:40\n",
      "17:70\n",
      "18:00\n",
      "18:30\n",
      "18:60\n",
      "18:90\n",
      "19:20\n",
      "19:50\n",
      "19:80\n",
      "20:10\n",
      "20:40\n",
      "20:70\n",
      "21:00\n",
      "21:30\n",
      "21:60\n",
      "21:90\n",
      "22:20\n",
      "22:50\n",
      "22:80\n",
      "23:10\n"
     ]
    }
   ],
   "source": [
    "for values in b12_hours:\n",
    "    hours = str(values)[:-2]\n",
    "    minutes = str(values)[-2:]\n",
    "    print(hours+':'+minutes)"
   ]
  },
  {
   "cell_type": "code",
   "execution_count": 49,
   "id": "bf3c41ae-5c57-41af-adad-9d1121739f15",
   "metadata": {},
   "outputs": [
    {
     "data": {
      "text/plain": [
       "[<matplotlib.lines.Line2D at 0x7f864493cb50>]"
      ]
     },
     "execution_count": 49,
     "metadata": {},
     "output_type": "execute_result"
    },
    {
     "data": {
      "image/png": "[encoded data removed]",
      "text/plain": [
       "<Figure size 432x288 with 1 Axes>"
      ]
     },
     "metadata": {
      "needs_background": "light"
     },
     "output_type": "display_data"
    }
   ],
   "source": [
    "fig = plt.figure()\n",
    "ax1 = fig.add_subplot(111)\n",
    "ax1.set_ylabel(\"Personen\")\n",
    "ax1.set_xlabel(\"Uhrzeit\")\n",
    "ax1.plot(b12_hours, b12_utilization)"
   ]
  },
  {
   "cell_type": "code",
   "execution_count": 50,
   "id": "cb5a7a1b-eba1-41bf-b699-5276846b3e37",
   "metadata": {},
   "outputs": [],
   "source": [
    "import pandas as pd"
   ]
  },
  {
   "cell_type": "code",
   "execution_count": 54,
   "id": "dbb2e10d-2c6b-4bd5-969a-622ff2a99f9b",
   "metadata": {},
   "outputs": [
    {
     "data": {
      "text/plain": [
       "[datetime.datetime(2021, 12, 4, 21, 44, 58, 797423)]"
      ]
     },
     "execution_count": 54,
     "metadata": {},
     "output_type": "execute_result"
    }
   ],
   "source": [
    "pd.date_range(end = datetime.datetime.today(), periods = 1).to_pydatetime().tolist()"
   ]
  },
  {
   "cell_type": "code",
   "execution_count": 58,
   "id": "16807afc-6975-4a93-a2e9-d643da0ba0f5",
   "metadata": {},
   "outputs": [
    {
     "data": {
      "text/plain": [
       "[datetime.datetime(2021, 12, 4, 9, 0)]"
      ]
     },
     "execution_count": 58,
     "metadata": {},
     "output_type": "execute_result"
    }
   ],
   "source": [
    "pd.date_range(start = \"2021-12-04, 9:00\", end = \"2021-12-04, 23:00\").to_pydatetime().tolist()"
   ]
  },
  {
   "cell_type": "code",
   "execution_count": null,
   "id": "7ee6cde9-cdc9-4ab4-b79a-b298cdddd78c",
   "metadata": {},
   "outputs": [],
   "source": []
  }
 ],
 "metadata": {
  "kernelspec": {
   "display_name": "Python 3 (ipykernel)",
   "language": "python",
   "name": "python3"
  },
  "language_info": {
   "codemirror_mode": {
    "name": "ipython",
    "version": 3
   },
   "file_extension": ".py",
   "mimetype": "text/x-python",
   "name": "python",
   "nbconvert_exporter": "python",
   "pygments_lexer": "ipython3",
   "version": "3.8.12"
  }
 },
 "nbformat": 4,
 "nbformat_minor": 5
}
