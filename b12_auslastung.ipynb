{
 "cells": [
  {
   "cell_type": "code",
   "execution_count": 1,
   "id": "58d11632-2f43-4947-9cc6-06b80e153966",
   "metadata": {},
   "outputs": [],
   "source": [
    "import requests\n",
    "import time\n",
    "import os.path\n",
    "from os import mkdir as os_mkdir\n",
    "from datetime import datetime\n",
    "from selenium import webdriver\n",
    "from bs4 import BeautifulSoup"
   ]
  },
  {
   "cell_type": "code",
   "execution_count": 2,
   "id": "c70255b8-dfd7-4cf0-bcf7-6dadadd47e1c",
   "metadata": {},
   "outputs": [],
   "source": [
    "def create_folder_structure():\n",
    "    #checks if the data/$WEEKDAY folders exists\n",
    "    #if not, creates them\n",
    "    if os.path.isdir('data') == True:\n",
    "        print('data folder exists already. skipping...')\n",
    "    else:\n",
    "        os_mkdir('data')\n",
    "    weekdays = ['mon', 'tue', 'wen', 'thu', 'fri', 'sat', 'sun']\n",
    "    for day in weekdays:\n",
    "        path = os.path.join('data',day)\n",
    "        if os.path.isdir(path) == True: \n",
    "            print(path + ' exists already. skipping...')\n",
    "        elif os.path.isdir(path) == False: \n",
    "            os_mkdir(path)"
   ]
  },
  {
   "cell_type": "code",
   "execution_count": 3,
   "id": "f39e8ab5-1615-4704-8141-eb9407ede42d",
   "metadata": {},
   "outputs": [],
   "source": [
    "def get_current_peoplecount():\n",
    "    #uses the b12 homepage to check the current amount of people training\n",
    "    #returns people-count as integer\n",
    "    #returns an array\n",
    "    #example output for 8:15am with 13 people : [0815,13]\n",
    "    \n",
    "    page_string = \"http://b12-tuebingen.de/\"\n",
    "    \n",
    "    #define webdriver options\n",
    "    options = webdriver.ChromeOptions()\n",
    "    options.add_argument('--ignore-certificate-errors')\n",
    "    options.add_argument('--incognito')\n",
    "    options.add_argument('--headless')\n",
    "    driver = webdriver.Chrome(\"./chromedriver\", options=options)\n",
    "    \n",
    "    #render the webpage headless and parse the source to beautiful soup\n",
    "    driver.get(page_string)\n",
    "    soup = BeautifulSoup(driver.page_source, 'html.parser')\n",
    "    \n",
    "    #gets the utilization string from the homepage and extracts the number\n",
    "    people_count_text = soup.select_one(\"div[class=status_text]\").text\n",
    "    people_count_integer = people_count_text.strip().split(' ')[0]\n",
    "    current_time = datetime.now().strftime(\"%H%M\")\n",
    "    \n",
    "    result = [current_time, people_count_integer]\n",
    "    \n",
    "    return result\n",
    "    \n",
    "    \n",
    "    "
   ]
  },
  {
   "cell_type": "code",
   "execution_count": 4,
   "id": "763c58dd-b2cf-4ea9-a5b2-cbbbb31758ce",
   "metadata": {},
   "outputs": [],
   "source": [
    "def write_to_file(results):\n",
    "    #write the data in a file\n",
    "    #filepath is ./data/$weekday/$date.out\n",
    "    \n",
    "    now = datetime.now()\n",
    "    weekday = now.strftime(\"%a\").lower()\n",
    "    date = now.strftime(\"%y_%m_%d\")\n",
    "    \n",
    "    path_to_file = os.path.join('data',weekday,date)\n",
    "    \n",
    "    #runs as long as the user or something else breaks it\n",
    "    print(\"Writing to : \" + str(path_to_file) + \" at: \" + str(results[0]))\n",
    "    with open(path_to_file, 'a') as file: \n",
    "        pars_string = str(results[0]+','+results[1]+'\\n')\n",
    "        file.write(pars_string)"
   ]
  },
  {
   "cell_type": "code",
   "execution_count": 5,
   "id": "e6d22821-ae21-42fb-9314-4b49609ac0d0",
   "metadata": {},
   "outputs": [],
   "source": [
    "def go_to_sleep(sleep_timer):\n",
    "    #waits the specified amount of time\n",
    "    time.sleep(sleep_timer)"
   ]
  },
  {
   "cell_type": "code",
   "execution_count": 6,
   "id": "00b8ea39-43ec-4f4b-8680-9ffba9866a86",
   "metadata": {},
   "outputs": [],
   "source": [
    "def main():\n",
    "    create_folder_structure()\n",
    "    while True: \n",
    "        b12_results = get_current_peoplecount()\n",
    "        write_to_file(b12_results)\n",
    "        go_to_sleep(10)\n",
    "    "
   ]
  },
  {
   "cell_type": "code",
   "execution_count": 8,
   "id": "504c9d3b-4d6f-4274-993f-3923b3e0cb7d",
   "metadata": {},
   "outputs": [
    {
     "name": "stdout",
     "output_type": "stream",
     "text": [
      "data folder exists already. skipping...\n",
      "data/mon exists already. skipping...\n",
      "data/tue exists already. skipping...\n",
      "data/wen exists already. skipping...\n",
      "data/thu exists already. skipping...\n",
      "data/fri exists already. skipping...\n",
      "data/sat exists already. skipping...\n",
      "data/sun exists already. skipping...\n",
      "Writing to : data/fri/21_12_03 at: 2157\n"
     ]
    },
    {
     "ename": "KeyboardInterrupt",
     "evalue": "",
     "output_type": "error",
     "traceback": [
      "\u001b[0;31m---------------------------------------------------------------------------\u001b[0m",
      "\u001b[0;31mKeyboardInterrupt\u001b[0m                         Traceback (most recent call last)",
      "\u001b[0;32m/var/folders/k0/4bwtzr156dgg30p85m1p8pcw0000gn/T/ipykernel_8571/451043146.py\u001b[0m in \u001b[0;36m<module>\u001b[0;34m\u001b[0m\n\u001b[0;32m----> 1\u001b[0;31m \u001b[0mmain\u001b[0m\u001b[0;34m(\u001b[0m\u001b[0;34m)\u001b[0m\u001b[0;34m\u001b[0m\u001b[0;34m\u001b[0m\u001b[0m\n\u001b[0m",
      "\u001b[0;32m/var/folders/k0/4bwtzr156dgg30p85m1p8pcw0000gn/T/ipykernel_8571/4130311259.py\u001b[0m in \u001b[0;36mmain\u001b[0;34m()\u001b[0m\n\u001b[1;32m      4\u001b[0m         \u001b[0mb12_results\u001b[0m \u001b[0;34m=\u001b[0m \u001b[0mget_current_peoplecount\u001b[0m\u001b[0;34m(\u001b[0m\u001b[0;34m)\u001b[0m\u001b[0;34m\u001b[0m\u001b[0;34m\u001b[0m\u001b[0m\n\u001b[1;32m      5\u001b[0m         \u001b[0mwrite_to_file\u001b[0m\u001b[0;34m(\u001b[0m\u001b[0mb12_results\u001b[0m\u001b[0;34m)\u001b[0m\u001b[0;34m\u001b[0m\u001b[0;34m\u001b[0m\u001b[0m\n\u001b[0;32m----> 6\u001b[0;31m         \u001b[0mgo_to_sleep\u001b[0m\u001b[0;34m(\u001b[0m\u001b[0;36m10\u001b[0m\u001b[0;34m)\u001b[0m\u001b[0;34m\u001b[0m\u001b[0;34m\u001b[0m\u001b[0m\n\u001b[0m\u001b[1;32m      7\u001b[0m \u001b[0;34m\u001b[0m\u001b[0m\n",
      "\u001b[0;32m/var/folders/k0/4bwtzr156dgg30p85m1p8pcw0000gn/T/ipykernel_8571/4066276309.py\u001b[0m in \u001b[0;36mgo_to_sleep\u001b[0;34m(sleep_timer)\u001b[0m\n\u001b[1;32m      1\u001b[0m \u001b[0;32mdef\u001b[0m \u001b[0mgo_to_sleep\u001b[0m\u001b[0;34m(\u001b[0m\u001b[0msleep_timer\u001b[0m\u001b[0;34m)\u001b[0m\u001b[0;34m:\u001b[0m\u001b[0;34m\u001b[0m\u001b[0;34m\u001b[0m\u001b[0m\n\u001b[1;32m      2\u001b[0m     \u001b[0;31m#waits the specified amount of time\u001b[0m\u001b[0;34m\u001b[0m\u001b[0;34m\u001b[0m\u001b[0;34m\u001b[0m\u001b[0m\n\u001b[0;32m----> 3\u001b[0;31m     \u001b[0mtime\u001b[0m\u001b[0;34m.\u001b[0m\u001b[0msleep\u001b[0m\u001b[0;34m(\u001b[0m\u001b[0msleep_timer\u001b[0m\u001b[0;34m)\u001b[0m\u001b[0;34m\u001b[0m\u001b[0;34m\u001b[0m\u001b[0m\n\u001b[0m",
      "\u001b[0;31mKeyboardInterrupt\u001b[0m: "
     ]
    }
   ],
   "source": [
    "main()"
   ]
  },
  {
   "cell_type": "code",
   "execution_count": null,
   "id": "4c91fcc2-83e6-4641-bccc-a767d594218c",
   "metadata": {},
   "outputs": [],
   "source": []
  }
 ],
 "metadata": {
  "kernelspec": {
   "display_name": "Python 3 (ipykernel)",
   "language": "python",
   "name": "python3"
  },
  "language_info": {
   "codemirror_mode": {
    "name": "ipython",
    "version": 3
   },
   "file_extension": ".py",
   "mimetype": "text/x-python",
   "name": "python",
   "nbconvert_exporter": "python",
   "pygments_lexer": "ipython3",
   "version": "3.8.12"
  }
 },
 "nbformat": 4,
 "nbformat_minor": 5
}
